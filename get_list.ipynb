{
 "cells": [
  {
   "cell_type": "code",
   "execution_count": 144,
   "metadata": {},
   "outputs": [],
   "source": [
    "#import the lib i will use \n",
    "import pandas as pd# for readinf csv file and to handle data \n",
    "from pathlib import Path # to control the path and create a custom folders\n",
    "import re  "
   ]
  },
  {
   "cell_type": "code",
   "execution_count": 145,
   "metadata": {},
   "outputs": [],
   "source": [
    "# reading the csv and adding the pst file path\n",
    "df= pd.read_csv(\"../Nahla/emls.csv\",index_col=\"Unnamed: 0\")\n",
    "# pst_file=r\"Amal Shalaby.pst\"\n",
    "pst_file=r\"Nahla El Kazak.pst\"\n"
   ]
  },
  {
   "attachments": {},
   "cell_type": "markdown",
   "metadata": {},
   "source": [
    "# EDA"
   ]
  },
  {
   "cell_type": "code",
   "execution_count": 146,
   "metadata": {},
   "outputs": [
    {
     "data": {
      "text/html": [
       "<div>\n",
       "<style scoped>\n",
       "    .dataframe tbody tr th:only-of-type {\n",
       "        vertical-align: middle;\n",
       "    }\n",
       "\n",
       "    .dataframe tbody tr th {\n",
       "        vertical-align: top;\n",
       "    }\n",
       "\n",
       "    .dataframe thead th {\n",
       "        text-align: right;\n",
       "    }\n",
       "</style>\n",
       "<table border=\"1\" class=\"dataframe\">\n",
       "  <thead>\n",
       "    <tr style=\"text-align: right;\">\n",
       "      <th></th>\n",
       "      <th>From</th>\n",
       "      <th>To</th>\n",
       "    </tr>\n",
       "  </thead>\n",
       "  <tbody>\n",
       "    <tr>\n",
       "      <th>0</th>\n",
       "      <td>NaN</td>\n",
       "      <td>NaN</td>\n",
       "    </tr>\n",
       "    <tr>\n",
       "      <th>1</th>\n",
       "      <td>NaN</td>\n",
       "      <td>NaN</td>\n",
       "    </tr>\n",
       "    <tr>\n",
       "      <th>2</th>\n",
       "      <td>From: Mail Delivery System &lt;MAILER-DAEMON@cdnm...</td>\n",
       "      <td>To: &lt;nahla@pclink.com.eg&gt;\\r</td>\n",
       "    </tr>\n",
       "    <tr>\n",
       "      <th>3</th>\n",
       "      <td>From: Mail Delivery System &lt;MAILER-DAEMON@smtp...</td>\n",
       "      <td>To: &lt;nahla@pclink.com.eg&gt;\\r</td>\n",
       "    </tr>\n",
       "    <tr>\n",
       "      <th>4</th>\n",
       "      <td>From: Mail Delivery Subsystem &lt;MAILER-DAEMON@V...</td>\n",
       "      <td>To: &lt;nahla@pclink.com.eg&gt;\\r</td>\n",
       "    </tr>\n",
       "  </tbody>\n",
       "</table>\n",
       "</div>"
      ],
      "text/plain": [
       "                                                From  \\\n",
       "0                                                NaN   \n",
       "1                                                NaN   \n",
       "2  From: Mail Delivery System <MAILER-DAEMON@cdnm...   \n",
       "3  From: Mail Delivery System <MAILER-DAEMON@smtp...   \n",
       "4  From: Mail Delivery Subsystem <MAILER-DAEMON@V...   \n",
       "\n",
       "                            To  \n",
       "0                          NaN  \n",
       "1                          NaN  \n",
       "2  To: <nahla@pclink.com.eg>\\r  \n",
       "3  To: <nahla@pclink.com.eg>\\r  \n",
       "4  To: <nahla@pclink.com.eg>\\r  "
      ]
     },
     "execution_count": 146,
     "metadata": {},
     "output_type": "execute_result"
    }
   ],
   "source": [
    "# exploreing data\n",
    "df.head()"
   ]
  },
  {
   "cell_type": "code",
   "execution_count": 147,
   "metadata": {},
   "outputs": [],
   "source": [
    "df.dropna(inplace=True)"
   ]
  },
  {
   "cell_type": "code",
   "execution_count": 148,
   "metadata": {},
   "outputs": [
    {
     "data": {
      "text/html": [
       "<div>\n",
       "<style scoped>\n",
       "    .dataframe tbody tr th:only-of-type {\n",
       "        vertical-align: middle;\n",
       "    }\n",
       "\n",
       "    .dataframe tbody tr th {\n",
       "        vertical-align: top;\n",
       "    }\n",
       "\n",
       "    .dataframe thead th {\n",
       "        text-align: right;\n",
       "    }\n",
       "</style>\n",
       "<table border=\"1\" class=\"dataframe\">\n",
       "  <thead>\n",
       "    <tr style=\"text-align: right;\">\n",
       "      <th></th>\n",
       "      <th>From</th>\n",
       "      <th>To</th>\n",
       "    </tr>\n",
       "  </thead>\n",
       "  <tbody>\n",
       "    <tr>\n",
       "      <th>2</th>\n",
       "      <td>From: Mail Delivery System &lt;MAILER-DAEMON@cdnm...</td>\n",
       "      <td>To: &lt;nahla@pclink.com.eg&gt;\\r</td>\n",
       "    </tr>\n",
       "    <tr>\n",
       "      <th>3</th>\n",
       "      <td>From: Mail Delivery System &lt;MAILER-DAEMON@smtp...</td>\n",
       "      <td>To: &lt;nahla@pclink.com.eg&gt;\\r</td>\n",
       "    </tr>\n",
       "    <tr>\n",
       "      <th>4</th>\n",
       "      <td>From: Mail Delivery Subsystem &lt;MAILER-DAEMON@V...</td>\n",
       "      <td>To: &lt;nahla@pclink.com.eg&gt;\\r</td>\n",
       "    </tr>\n",
       "    <tr>\n",
       "      <th>5</th>\n",
       "      <td>From: Mail Delivery System &lt;MAILER-DAEMON@mc31...</td>\n",
       "      <td>To: &lt;nahla@pclink.com.eg&gt;\\r</td>\n",
       "    </tr>\n",
       "    <tr>\n",
       "      <th>6</th>\n",
       "      <td>From:Date:Subject:Message-ID:Content-Type:MIME...</td>\n",
       "      <td>To: \"nahla@pclink.com.eg\" &lt;nahla@pclink.com.eg&gt;\\r</td>\n",
       "    </tr>\n",
       "  </tbody>\n",
       "</table>\n",
       "</div>"
      ],
      "text/plain": [
       "                                                From  \\\n",
       "2  From: Mail Delivery System <MAILER-DAEMON@cdnm...   \n",
       "3  From: Mail Delivery System <MAILER-DAEMON@smtp...   \n",
       "4  From: Mail Delivery Subsystem <MAILER-DAEMON@V...   \n",
       "5  From: Mail Delivery System <MAILER-DAEMON@mc31...   \n",
       "6  From:Date:Subject:Message-ID:Content-Type:MIME...   \n",
       "\n",
       "                                                  To  \n",
       "2                        To: <nahla@pclink.com.eg>\\r  \n",
       "3                        To: <nahla@pclink.com.eg>\\r  \n",
       "4                        To: <nahla@pclink.com.eg>\\r  \n",
       "5                        To: <nahla@pclink.com.eg>\\r  \n",
       "6  To: \"nahla@pclink.com.eg\" <nahla@pclink.com.eg>\\r  "
      ]
     },
     "execution_count": 148,
     "metadata": {},
     "output_type": "execute_result"
    }
   ],
   "source": [
    "df.head()"
   ]
  },
  {
   "attachments": {},
   "cell_type": "markdown",
   "metadata": {},
   "source": [
    "## regex Function"
   ]
  },
  {
   "cell_type": "code",
   "execution_count": 149,
   "metadata": {},
   "outputs": [],
   "source": [
    " \n",
    "\n",
    "# this function created to chech the pattern of the emails and mask the data based on this check\n",
    "regex = '^[a-zA-Z0-9._%+-]+@[a-zA-Z0-9.-]+\\.[a-zA-Z]{2,}$'  \n",
    "  \n",
    "def check(email):   \n",
    "  \n",
    "    if(re.search(regex,email)):   \n",
    "       return True\n",
    "    else:   \n",
    "        return False \n",
    "      "
   ]
  },
  {
   "cell_type": "code",
   "execution_count": 150,
   "metadata": {},
   "outputs": [],
   "source": [
    "def check_names(name):\n",
    "    if \"?\" in name and \"=\" in name:\n",
    "        return \"\"\n",
    "    else:\n",
    "        return name"
   ]
  },
  {
   "cell_type": "code",
   "execution_count": 151,
   "metadata": {},
   "outputs": [],
   "source": [
    "# completeing the EDA \n",
    "df.drop_duplicates(inplace=True)"
   ]
  },
  {
   "cell_type": "code",
   "execution_count": 152,
   "metadata": {},
   "outputs": [
    {
     "name": "stdout",
     "output_type": "stream",
     "text": [
      "<class 'pandas.core.frame.DataFrame'>\n",
      "Int64Index: 3364 entries, 2 to 18236\n",
      "Data columns (total 2 columns):\n",
      " #   Column  Non-Null Count  Dtype \n",
      "---  ------  --------------  ----- \n",
      " 0   From    3364 non-null   object\n",
      " 1   To      3364 non-null   object\n",
      "dtypes: object(2)\n",
      "memory usage: 78.8+ KB\n"
     ]
    }
   ],
   "source": [
    "df.info()"
   ]
  },
  {
   "cell_type": "code",
   "execution_count": 153,
   "metadata": {},
   "outputs": [
    {
     "data": {
      "text/html": [
       "<div>\n",
       "<style scoped>\n",
       "    .dataframe tbody tr th:only-of-type {\n",
       "        vertical-align: middle;\n",
       "    }\n",
       "\n",
       "    .dataframe tbody tr th {\n",
       "        vertical-align: top;\n",
       "    }\n",
       "\n",
       "    .dataframe thead th {\n",
       "        text-align: right;\n",
       "    }\n",
       "</style>\n",
       "<table border=\"1\" class=\"dataframe\">\n",
       "  <thead>\n",
       "    <tr style=\"text-align: right;\">\n",
       "      <th></th>\n",
       "      <th>From</th>\n",
       "      <th>To</th>\n",
       "    </tr>\n",
       "  </thead>\n",
       "  <tbody>\n",
       "    <tr>\n",
       "      <th>2</th>\n",
       "      <td>From: Mail Delivery System &lt;MAILER-DAEMON@cdnm...</td>\n",
       "      <td>To: &lt;nahla@pclink.com.eg&gt;\\r</td>\n",
       "    </tr>\n",
       "    <tr>\n",
       "      <th>3</th>\n",
       "      <td>From: Mail Delivery System &lt;MAILER-DAEMON@smtp...</td>\n",
       "      <td>To: &lt;nahla@pclink.com.eg&gt;\\r</td>\n",
       "    </tr>\n",
       "    <tr>\n",
       "      <th>4</th>\n",
       "      <td>From: Mail Delivery Subsystem &lt;MAILER-DAEMON@V...</td>\n",
       "      <td>To: &lt;nahla@pclink.com.eg&gt;\\r</td>\n",
       "    </tr>\n",
       "    <tr>\n",
       "      <th>5</th>\n",
       "      <td>From: Mail Delivery System &lt;MAILER-DAEMON@mc31...</td>\n",
       "      <td>To: &lt;nahla@pclink.com.eg&gt;\\r</td>\n",
       "    </tr>\n",
       "    <tr>\n",
       "      <th>6</th>\n",
       "      <td>From:Date:Subject:Message-ID:Content-Type:MIME...</td>\n",
       "      <td>To: \"nahla@pclink.com.eg\" &lt;nahla@pclink.com.eg&gt;\\r</td>\n",
       "    </tr>\n",
       "  </tbody>\n",
       "</table>\n",
       "</div>"
      ],
      "text/plain": [
       "                                                From  \\\n",
       "2  From: Mail Delivery System <MAILER-DAEMON@cdnm...   \n",
       "3  From: Mail Delivery System <MAILER-DAEMON@smtp...   \n",
       "4  From: Mail Delivery Subsystem <MAILER-DAEMON@V...   \n",
       "5  From: Mail Delivery System <MAILER-DAEMON@mc31...   \n",
       "6  From:Date:Subject:Message-ID:Content-Type:MIME...   \n",
       "\n",
       "                                                  To  \n",
       "2                        To: <nahla@pclink.com.eg>\\r  \n",
       "3                        To: <nahla@pclink.com.eg>\\r  \n",
       "4                        To: <nahla@pclink.com.eg>\\r  \n",
       "5                        To: <nahla@pclink.com.eg>\\r  \n",
       "6  To: \"nahla@pclink.com.eg\" <nahla@pclink.com.eg>\\r  "
      ]
     },
     "execution_count": 153,
     "metadata": {},
     "output_type": "execute_result"
    }
   ],
   "source": [
    "df.head()"
   ]
  },
  {
   "attachments": {},
   "cell_type": "markdown",
   "metadata": {},
   "source": [
    "### filtering the from col to get the emails and names"
   ]
  },
  {
   "cell_type": "code",
   "execution_count": 154,
   "metadata": {},
   "outputs": [],
   "source": [
    "# the main function take the col and start to filter this col to dataframe with \n",
    "#email and names and remove all the null and remove duplication\n",
    "def clean_from_side(emails):\n",
    "    names=emails.str.split(\"<\",expand=True)[0]\n",
    "    emails=emails.str.split(\"<\",expand=True)[1]\n",
    "    final_emails=emails.str.split(\">\",expand=True)[0].str.lower()\n",
    "    final_names=names.str.split(\": \",expand=True)[1]\n",
    "    final_df = pd.concat([final_emails, final_names], axis=1,keys=[\"Emails\",\"Names\"])\n",
    "    final_df.dropna(inplace=True)\n",
    "    mask=final_df[\"Emails\"].apply(check)\n",
    "    final_df[\"Names\"]=final_df[\"Names\"].apply(check_names)\n",
    "    final_df=final_df[mask]\n",
    "    final_df.drop_duplicates(subset=\"Emails\",inplace=True)\n",
    "    final_df.drop_duplicates(inplace=True)\n",
    "   \n",
    "    final_df.reset_index(drop=True,inplace=True)\n",
    "    return final_df\n"
   ]
  },
  {
   "cell_type": "code",
   "execution_count": 155,
   "metadata": {},
   "outputs": [],
   "source": [
    "# calling the function for the to calls the from and the to cols \n",
    "final_df_from=clean_from_side(df[\"From\"])\n",
    "final_df_to=clean_from_side(df[\"To\"])"
   ]
  },
  {
   "attachments": {},
   "cell_type": "markdown",
   "metadata": {},
   "source": [
    "### filtering To col to emails and names "
   ]
  },
  {
   "cell_type": "code",
   "execution_count": 156,
   "metadata": {},
   "outputs": [],
   "source": [
    "# saving the final output as csv files \n",
    "eml_out = Path(Path.cwd() / pst_file.split(\" \")[0])\n",
    "\n",
    "\n",
    "if not eml_out.exists():\n",
    "  eml_out.mkdir()\n",
    "\n",
    "\n",
    "final_df_from.to_csv(eml_out / \"after_Filtering_From.csv\")\n",
    "# final_name_from.to_csv(eml_out / \"after_Filtering_From_Names.csv\")\n",
    "final_df_to.to_csv(eml_out / \"after_Filtering_To_emls.csv\")\n",
    "# final_name_To.to_csv(eml_out / \"after_Filtering_To_Names.csv\")"
   ]
  }
 ],
 "metadata": {
  "kernelspec": {
   "display_name": "Python 3",
   "language": "python",
   "name": "python3"
  },
  "language_info": {
   "codemirror_mode": {
    "name": "ipython",
    "version": 3
   },
   "file_extension": ".py",
   "mimetype": "text/x-python",
   "name": "python",
   "nbconvert_exporter": "python",
   "pygments_lexer": "ipython3",
   "version": "3.10.5"
  },
  "orig_nbformat": 4
 },
 "nbformat": 4,
 "nbformat_minor": 2
}
