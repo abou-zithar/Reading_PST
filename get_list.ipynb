{
 "cells": [
  {
   "cell_type": "code",
   "execution_count": 60,
   "metadata": {},
   "outputs": [],
   "source": [
    "#import the lib i will use \n",
    "import pandas as pd# for readinf csv file and to handle data \n",
    "from pathlib import Path # to control the path and create a custom folders\n",
    "import re  "
   ]
  },
  {
   "cell_type": "code",
   "execution_count": 61,
   "metadata": {},
   "outputs": [],
   "source": [
    "# reading the csv and adding the pst file path\n",
    "df= pd.read_csv(\"Nahla/emls.csv\",index_col=\"Unnamed: 0\")\n",
    "pst_file=r\"Nahla El Kazak.pst\""
   ]
  },
  {
   "attachments": {},
   "cell_type": "markdown",
   "metadata": {},
   "source": [
    "# EDA"
   ]
  },
  {
   "cell_type": "code",
   "execution_count": 62,
   "metadata": {},
   "outputs": [
    {
     "data": {
      "text/html": [
       "<div>\n",
       "<style scoped>\n",
       "    .dataframe tbody tr th:only-of-type {\n",
       "        vertical-align: middle;\n",
       "    }\n",
       "\n",
       "    .dataframe tbody tr th {\n",
       "        vertical-align: top;\n",
       "    }\n",
       "\n",
       "    .dataframe thead th {\n",
       "        text-align: right;\n",
       "    }\n",
       "</style>\n",
       "<table border=\"1\" class=\"dataframe\">\n",
       "  <thead>\n",
       "    <tr style=\"text-align: right;\">\n",
       "      <th></th>\n",
       "      <th>From</th>\n",
       "      <th>To</th>\n",
       "    </tr>\n",
       "  </thead>\n",
       "  <tbody>\n",
       "    <tr>\n",
       "      <th>0</th>\n",
       "      <td>NaN</td>\n",
       "      <td>NaN</td>\n",
       "    </tr>\n",
       "    <tr>\n",
       "      <th>1</th>\n",
       "      <td>NaN</td>\n",
       "      <td>NaN</td>\n",
       "    </tr>\n",
       "    <tr>\n",
       "      <th>2</th>\n",
       "      <td>NaN</td>\n",
       "      <td>NaN</td>\n",
       "    </tr>\n",
       "    <tr>\n",
       "      <th>3</th>\n",
       "      <td>From:To:Date:Subject:Message-ID:Content-Type:M...</td>\n",
       "      <td>To:Date:Subject:Message-ID:Content-Type:MIME-V...</td>\n",
       "    </tr>\n",
       "    <tr>\n",
       "      <th>4</th>\n",
       "      <td>From: \"Keren Batash (Hever-Project Management ...</td>\n",
       "      <td>To: \"shaym@valinor.co.il\" &lt;shaym@valinor.co.il...</td>\n",
       "    </tr>\n",
       "  </tbody>\n",
       "</table>\n",
       "</div>"
      ],
      "text/plain": [
       "                                                From  \\\n",
       "0                                                NaN   \n",
       "1                                                NaN   \n",
       "2                                                NaN   \n",
       "3  From:To:Date:Subject:Message-ID:Content-Type:M...   \n",
       "4  From: \"Keren Batash (Hever-Project Management ...   \n",
       "\n",
       "                                                  To  \n",
       "0                                                NaN  \n",
       "1                                                NaN  \n",
       "2                                                NaN  \n",
       "3  To:Date:Subject:Message-ID:Content-Type:MIME-V...  \n",
       "4  To: \"shaym@valinor.co.il\" <shaym@valinor.co.il...  "
      ]
     },
     "execution_count": 62,
     "metadata": {},
     "output_type": "execute_result"
    }
   ],
   "source": [
    "# exploreing data\n",
    "df.head()"
   ]
  },
  {
   "cell_type": "code",
   "execution_count": 63,
   "metadata": {},
   "outputs": [],
   "source": [
    "df.dropna(inplace=True)"
   ]
  },
  {
   "cell_type": "code",
   "execution_count": 64,
   "metadata": {},
   "outputs": [
    {
     "data": {
      "text/html": [
       "<div>\n",
       "<style scoped>\n",
       "    .dataframe tbody tr th:only-of-type {\n",
       "        vertical-align: middle;\n",
       "    }\n",
       "\n",
       "    .dataframe tbody tr th {\n",
       "        vertical-align: top;\n",
       "    }\n",
       "\n",
       "    .dataframe thead th {\n",
       "        text-align: right;\n",
       "    }\n",
       "</style>\n",
       "<table border=\"1\" class=\"dataframe\">\n",
       "  <thead>\n",
       "    <tr style=\"text-align: right;\">\n",
       "      <th></th>\n",
       "      <th>From</th>\n",
       "      <th>To</th>\n",
       "    </tr>\n",
       "  </thead>\n",
       "  <tbody>\n",
       "    <tr>\n",
       "      <th>3</th>\n",
       "      <td>From:To:Date:Subject:Message-ID:Content-Type:M...</td>\n",
       "      <td>To:Date:Subject:Message-ID:Content-Type:MIME-V...</td>\n",
       "    </tr>\n",
       "    <tr>\n",
       "      <th>4</th>\n",
       "      <td>From: \"Keren Batash (Hever-Project Management ...</td>\n",
       "      <td>To: \"shaym@valinor.co.il\" &lt;shaym@valinor.co.il...</td>\n",
       "    </tr>\n",
       "    <tr>\n",
       "      <th>5</th>\n",
       "      <td>From: \"Keren Batash (Hever-Project Management ...</td>\n",
       "      <td>To: \"shaym@valinor.co.il\" &lt;shaym@valinor.co.il...</td>\n",
       "    </tr>\n",
       "    <tr>\n",
       "      <th>6</th>\n",
       "      <td>From:Reply-to:Subject:Date;b=eoWC5nTWAHBR9rH+U...</td>\n",
       "      <td>To:From:Reply-to:Subject:Date;b=eoWC5nTWAHBR9r...</td>\n",
       "    </tr>\n",
       "    <tr>\n",
       "      <th>7</th>\n",
       "      <td>From:MIME-Version:List-Id:List-Unsubscribe:Con...</td>\n",
       "      <td>To:Subject:From:MIME-Version:List-Id:List-Unsu...</td>\n",
       "    </tr>\n",
       "  </tbody>\n",
       "</table>\n",
       "</div>"
      ],
      "text/plain": [
       "                                                From  \\\n",
       "3  From:To:Date:Subject:Message-ID:Content-Type:M...   \n",
       "4  From: \"Keren Batash (Hever-Project Management ...   \n",
       "5  From: \"Keren Batash (Hever-Project Management ...   \n",
       "6  From:Reply-to:Subject:Date;b=eoWC5nTWAHBR9rH+U...   \n",
       "7  From:MIME-Version:List-Id:List-Unsubscribe:Con...   \n",
       "\n",
       "                                                  To  \n",
       "3  To:Date:Subject:Message-ID:Content-Type:MIME-V...  \n",
       "4  To: \"shaym@valinor.co.il\" <shaym@valinor.co.il...  \n",
       "5  To: \"shaym@valinor.co.il\" <shaym@valinor.co.il...  \n",
       "6  To:From:Reply-to:Subject:Date;b=eoWC5nTWAHBR9r...  \n",
       "7  To:Subject:From:MIME-Version:List-Id:List-Unsu...  "
      ]
     },
     "execution_count": 64,
     "metadata": {},
     "output_type": "execute_result"
    }
   ],
   "source": [
    "df.head()"
   ]
  },
  {
   "attachments": {},
   "cell_type": "markdown",
   "metadata": {},
   "source": [
    "## regex Function"
   ]
  },
  {
   "cell_type": "code",
   "execution_count": 65,
   "metadata": {},
   "outputs": [],
   "source": [
    " \n",
    "\n",
    "# this function created to chech the pattern of the emails and mask the data based on this check\n",
    "regex = '^[a-zA-Z0-9._%+-]+@[a-zA-Z0-9.-]+\\.[a-zA-Z]{2,}$'  \n",
    "  \n",
    "def check(email):   \n",
    "  \n",
    "    if(re.search(regex,email)):   \n",
    "       return True\n",
    "    else:   \n",
    "        return False \n",
    "      "
   ]
  },
  {
   "cell_type": "code",
   "execution_count": 66,
   "metadata": {},
   "outputs": [],
   "source": [
    "def check_names(name):\n",
    "    if \"?\" in name and \"=\" in name:\n",
    "        return \"\"\n",
    "    else:\n",
    "        return name"
   ]
  },
  {
   "cell_type": "code",
   "execution_count": 67,
   "metadata": {},
   "outputs": [],
   "source": [
    "# completeing the EDA \n",
    "df.drop_duplicates(inplace=True)"
   ]
  },
  {
   "cell_type": "code",
   "execution_count": 68,
   "metadata": {},
   "outputs": [
    {
     "name": "stdout",
     "output_type": "stream",
     "text": [
      "<class 'pandas.core.frame.DataFrame'>\n",
      "Int64Index: 7247 entries, 3 to 18974\n",
      "Data columns (total 2 columns):\n",
      " #   Column  Non-Null Count  Dtype \n",
      "---  ------  --------------  ----- \n",
      " 0   From    7247 non-null   object\n",
      " 1   To      7247 non-null   object\n",
      "dtypes: object(2)\n",
      "memory usage: 169.9+ KB\n"
     ]
    }
   ],
   "source": [
    "df.info()"
   ]
  },
  {
   "cell_type": "code",
   "execution_count": 69,
   "metadata": {},
   "outputs": [
    {
     "data": {
      "text/html": [
       "<div>\n",
       "<style scoped>\n",
       "    .dataframe tbody tr th:only-of-type {\n",
       "        vertical-align: middle;\n",
       "    }\n",
       "\n",
       "    .dataframe tbody tr th {\n",
       "        vertical-align: top;\n",
       "    }\n",
       "\n",
       "    .dataframe thead th {\n",
       "        text-align: right;\n",
       "    }\n",
       "</style>\n",
       "<table border=\"1\" class=\"dataframe\">\n",
       "  <thead>\n",
       "    <tr style=\"text-align: right;\">\n",
       "      <th></th>\n",
       "      <th>From</th>\n",
       "      <th>To</th>\n",
       "    </tr>\n",
       "  </thead>\n",
       "  <tbody>\n",
       "    <tr>\n",
       "      <th>3</th>\n",
       "      <td>From:To:Date:Subject:Message-ID:Content-Type:M...</td>\n",
       "      <td>To:Date:Subject:Message-ID:Content-Type:MIME-V...</td>\n",
       "    </tr>\n",
       "    <tr>\n",
       "      <th>4</th>\n",
       "      <td>From: \"Keren Batash (Hever-Project Management ...</td>\n",
       "      <td>To: \"shaym@valinor.co.il\" &lt;shaym@valinor.co.il...</td>\n",
       "    </tr>\n",
       "    <tr>\n",
       "      <th>6</th>\n",
       "      <td>From:Reply-to:Subject:Date;b=eoWC5nTWAHBR9rH+U...</td>\n",
       "      <td>To:From:Reply-to:Subject:Date;b=eoWC5nTWAHBR9r...</td>\n",
       "    </tr>\n",
       "    <tr>\n",
       "      <th>7</th>\n",
       "      <td>From:MIME-Version:List-Id:List-Unsubscribe:Con...</td>\n",
       "      <td>To:Subject:From:MIME-Version:List-Id:List-Unsu...</td>\n",
       "    </tr>\n",
       "    <tr>\n",
       "      <th>8</th>\n",
       "      <td>From: Marketing &lt;Marketing@aptec.com.eg&gt;\\r</td>\n",
       "      <td>To: Undisclosed recipients:;\\r</td>\n",
       "    </tr>\n",
       "  </tbody>\n",
       "</table>\n",
       "</div>"
      ],
      "text/plain": [
       "                                                From  \\\n",
       "3  From:To:Date:Subject:Message-ID:Content-Type:M...   \n",
       "4  From: \"Keren Batash (Hever-Project Management ...   \n",
       "6  From:Reply-to:Subject:Date;b=eoWC5nTWAHBR9rH+U...   \n",
       "7  From:MIME-Version:List-Id:List-Unsubscribe:Con...   \n",
       "8         From: Marketing <Marketing@aptec.com.eg>\\r   \n",
       "\n",
       "                                                  To  \n",
       "3  To:Date:Subject:Message-ID:Content-Type:MIME-V...  \n",
       "4  To: \"shaym@valinor.co.il\" <shaym@valinor.co.il...  \n",
       "6  To:From:Reply-to:Subject:Date;b=eoWC5nTWAHBR9r...  \n",
       "7  To:Subject:From:MIME-Version:List-Id:List-Unsu...  \n",
       "8                     To: Undisclosed recipients:;\\r  "
      ]
     },
     "execution_count": 69,
     "metadata": {},
     "output_type": "execute_result"
    }
   ],
   "source": [
    "df.head()"
   ]
  },
  {
   "attachments": {},
   "cell_type": "markdown",
   "metadata": {},
   "source": [
    "### filtering the from col to get the emails and names"
   ]
  },
  {
   "cell_type": "code",
   "execution_count": 70,
   "metadata": {},
   "outputs": [],
   "source": [
    "# the main function take the col and start to filter this col to dataframe with \n",
    "#email and names and remove all the null and remove duplication\n",
    "def clean_from_side(emails):\n",
    "    names=emails.str.split(\"<\",expand=True)[0]\n",
    "    emails=emails.str.split(\"<\",expand=True)[1]\n",
    "    final_emails=emails.str.split(\">\",expand=True)[0].str.lower()\n",
    "    final_names=names.str.split(\": \",expand=True)[1]\n",
    "    final_df = pd.concat([final_emails, final_names], axis=1,keys=[\"Emails\",\"Names\"])\n",
    "\n",
    "    final_df.dropna(inplace=True)\n",
    "    final_df.drop_duplicates(inplace=True)\n",
    "    mask=final_df[\"Emails\"].apply(check)\n",
    "    final_df[\"Names\"]=final_df[\"Names\"].apply(check_names)\n",
    "    final_df=final_df[mask]\n",
    "   \n",
    "    final_df.reset_index(drop=True,inplace=True)\n",
    "    return final_df\n"
   ]
  },
  {
   "cell_type": "code",
   "execution_count": 71,
   "metadata": {},
   "outputs": [],
   "source": [
    "# calling the function for the to calls the from and the to cols \n",
    "final_df_from=clean_from_side(df[\"From\"])\n",
    "final_df_to=clean_from_side(df[\"To\"])"
   ]
  },
  {
   "attachments": {},
   "cell_type": "markdown",
   "metadata": {},
   "source": [
    "### filtering To col to emails and names "
   ]
  },
  {
   "cell_type": "code",
   "execution_count": 72,
   "metadata": {},
   "outputs": [],
   "source": [
    "# saving the final output as csv files \n",
    "eml_out = Path(Path.cwd() / pst_file.split(\" \")[0])\n",
    "\n",
    "\n",
    "if not eml_out.exists():\n",
    "  eml_out.mkdir()\n",
    "\n",
    "\n",
    "final_df_from.to_csv(eml_out / \"after_Filtering_From.csv\")\n",
    "# final_name_from.to_csv(eml_out / \"after_Filtering_From_Names.csv\")\n",
    "final_df_to.to_csv(eml_out / \"after_Filtering_To_emls.csv\")\n",
    "# final_name_To.to_csv(eml_out / \"after_Filtering_To_Names.csv\")"
   ]
  }
 ],
 "metadata": {
  "kernelspec": {
   "display_name": "Python 3",
   "language": "python",
   "name": "python3"
  },
  "language_info": {
   "codemirror_mode": {
    "name": "ipython",
    "version": 3
   },
   "file_extension": ".py",
   "mimetype": "text/x-python",
   "name": "python",
   "nbconvert_exporter": "python",
   "pygments_lexer": "ipython3",
   "version": "3.10.5"
  },
  "orig_nbformat": 4
 },
 "nbformat": 4,
 "nbformat_minor": 2
}
